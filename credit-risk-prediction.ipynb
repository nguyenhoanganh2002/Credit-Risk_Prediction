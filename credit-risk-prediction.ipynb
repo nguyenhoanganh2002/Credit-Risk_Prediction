{
 "cells": [
  {
   "cell_type": "code",
   "execution_count": 1,
   "id": "757f8a6e",
   "metadata": {
    "_cell_guid": "b1076dfc-b9ad-4769-8c92-a6c4dae69d19",
    "_uuid": "8f2839f25d086af736a60e9eeb907d3b93b6e0e5",
    "execution": {
     "iopub.execute_input": "2023-07-06T12:27:31.383749Z",
     "iopub.status.busy": "2023-07-06T12:27:31.383333Z",
     "iopub.status.idle": "2023-07-06T12:27:41.470419Z",
     "shell.execute_reply": "2023-07-06T12:27:41.469283Z"
    },
    "papermill": {
     "duration": 10.10039,
     "end_time": "2023-07-06T12:27:41.472998",
     "exception": false,
     "start_time": "2023-07-06T12:27:31.372608",
     "status": "completed"
    },
    "tags": []
   },
   "outputs": [
    {
     "name": "stderr",
     "output_type": "stream",
     "text": [
      "/opt/conda/lib/python3.10/site-packages/tensorflow_io/python/ops/__init__.py:98: UserWarning: unable to load libtensorflow_io_plugins.so: unable to open file: libtensorflow_io_plugins.so, from paths: ['/opt/conda/lib/python3.10/site-packages/tensorflow_io/python/ops/libtensorflow_io_plugins.so']\n",
      "caused by: ['/opt/conda/lib/python3.10/site-packages/tensorflow_io/python/ops/libtensorflow_io_plugins.so: undefined symbol: _ZN3tsl6StatusC1EN10tensorflow5error4CodeESt17basic_string_viewIcSt11char_traitsIcEENS_14SourceLocationE']\n",
      "  warnings.warn(f\"unable to load libtensorflow_io_plugins.so: {e}\")\n",
      "/opt/conda/lib/python3.10/site-packages/tensorflow_io/python/ops/__init__.py:104: UserWarning: file system plugins are not loaded: unable to open file: libtensorflow_io.so, from paths: ['/opt/conda/lib/python3.10/site-packages/tensorflow_io/python/ops/libtensorflow_io.so']\n",
      "caused by: ['/opt/conda/lib/python3.10/site-packages/tensorflow_io/python/ops/libtensorflow_io.so: undefined symbol: _ZTVN10tensorflow13GcsFileSystemE']\n",
      "  warnings.warn(f\"file system plugins are not loaded: {e}\")\n"
     ]
    }
   ],
   "source": [
    "import tensorflow as tf\n",
    "import tensorflow_decision_forests as tfdf\n",
    "import pandas as pd\n",
    "import numpy as np\n",
    "import seaborn as sns\n",
    "import matplotlib.pyplot as plt\n",
    "from sklearn.preprocessing import OneHotEncoder"
   ]
  },
  {
   "cell_type": "code",
   "execution_count": 2,
   "id": "3b095615",
   "metadata": {
    "execution": {
     "iopub.execute_input": "2023-07-06T12:27:41.490502Z",
     "iopub.status.busy": "2023-07-06T12:27:41.488978Z",
     "iopub.status.idle": "2023-07-06T12:27:41.537870Z",
     "shell.execute_reply": "2023-07-06T12:27:41.536832Z"
    },
    "papermill": {
     "duration": 0.059564,
     "end_time": "2023-07-06T12:27:41.540145",
     "exception": false,
     "start_time": "2023-07-06T12:27:41.480581",
     "status": "completed"
    },
    "tags": []
   },
   "outputs": [
    {
     "data": {
      "text/html": [
       "<div>\n",
       "<style scoped>\n",
       "    .dataframe tbody tr th:only-of-type {\n",
       "        vertical-align: middle;\n",
       "    }\n",
       "\n",
       "    .dataframe tbody tr th {\n",
       "        vertical-align: top;\n",
       "    }\n",
       "\n",
       "    .dataframe thead th {\n",
       "        text-align: right;\n",
       "    }\n",
       "</style>\n",
       "<table border=\"1\" class=\"dataframe\">\n",
       "  <thead>\n",
       "    <tr style=\"text-align: right;\">\n",
       "      <th></th>\n",
       "      <th>age</th>\n",
       "      <th>ed</th>\n",
       "      <th>employ</th>\n",
       "      <th>address</th>\n",
       "      <th>income</th>\n",
       "      <th>debtinc</th>\n",
       "      <th>creddebt</th>\n",
       "      <th>othdebt</th>\n",
       "      <th>default</th>\n",
       "    </tr>\n",
       "  </thead>\n",
       "  <tbody>\n",
       "    <tr>\n",
       "      <th>0</th>\n",
       "      <td>41</td>\n",
       "      <td>3</td>\n",
       "      <td>17</td>\n",
       "      <td>12</td>\n",
       "      <td>176</td>\n",
       "      <td>9.3</td>\n",
       "      <td>11.359392</td>\n",
       "      <td>5.008608</td>\n",
       "      <td>1.0</td>\n",
       "    </tr>\n",
       "    <tr>\n",
       "      <th>1</th>\n",
       "      <td>27</td>\n",
       "      <td>1</td>\n",
       "      <td>10</td>\n",
       "      <td>6</td>\n",
       "      <td>31</td>\n",
       "      <td>17.3</td>\n",
       "      <td>1.362202</td>\n",
       "      <td>4.000798</td>\n",
       "      <td>0.0</td>\n",
       "    </tr>\n",
       "    <tr>\n",
       "      <th>2</th>\n",
       "      <td>40</td>\n",
       "      <td>1</td>\n",
       "      <td>15</td>\n",
       "      <td>14</td>\n",
       "      <td>55</td>\n",
       "      <td>5.5</td>\n",
       "      <td>0.856075</td>\n",
       "      <td>2.168925</td>\n",
       "      <td>0.0</td>\n",
       "    </tr>\n",
       "    <tr>\n",
       "      <th>3</th>\n",
       "      <td>41</td>\n",
       "      <td>1</td>\n",
       "      <td>15</td>\n",
       "      <td>14</td>\n",
       "      <td>120</td>\n",
       "      <td>2.9</td>\n",
       "      <td>2.658720</td>\n",
       "      <td>0.821280</td>\n",
       "      <td>0.0</td>\n",
       "    </tr>\n",
       "    <tr>\n",
       "      <th>4</th>\n",
       "      <td>24</td>\n",
       "      <td>2</td>\n",
       "      <td>2</td>\n",
       "      <td>0</td>\n",
       "      <td>28</td>\n",
       "      <td>17.3</td>\n",
       "      <td>1.787436</td>\n",
       "      <td>3.056564</td>\n",
       "      <td>1.0</td>\n",
       "    </tr>\n",
       "  </tbody>\n",
       "</table>\n",
       "</div>"
      ],
      "text/plain": [
       "   age  ed  employ  address  income  debtinc   creddebt   othdebt  default\n",
       "0   41   3      17       12     176      9.3  11.359392  5.008608      1.0\n",
       "1   27   1      10        6      31     17.3   1.362202  4.000798      0.0\n",
       "2   40   1      15       14      55      5.5   0.856075  2.168925      0.0\n",
       "3   41   1      15       14     120      2.9   2.658720  0.821280      0.0\n",
       "4   24   2       2        0      28     17.3   1.787436  3.056564      1.0"
      ]
     },
     "execution_count": 2,
     "metadata": {},
     "output_type": "execute_result"
    }
   ],
   "source": [
    "dataset_df = pd.read_csv(\"/kaggle/input/credit-risk-analysis-for-extending-bank-loans/bankloans.csv\")\n",
    "dataset_df.head()"
   ]
  },
  {
   "cell_type": "code",
   "execution_count": 3,
   "id": "22665361",
   "metadata": {
    "execution": {
     "iopub.execute_input": "2023-07-06T12:27:41.556843Z",
     "iopub.status.busy": "2023-07-06T12:27:41.556438Z",
     "iopub.status.idle": "2023-07-06T12:27:41.585333Z",
     "shell.execute_reply": "2023-07-06T12:27:41.583837Z"
    },
    "papermill": {
     "duration": 0.040034,
     "end_time": "2023-07-06T12:27:41.587700",
     "exception": false,
     "start_time": "2023-07-06T12:27:41.547666",
     "status": "completed"
    },
    "tags": []
   },
   "outputs": [
    {
     "name": "stdout",
     "output_type": "stream",
     "text": [
      "<class 'pandas.core.frame.DataFrame'>\n",
      "RangeIndex: 1150 entries, 0 to 1149\n",
      "Data columns (total 9 columns):\n",
      " #   Column    Non-Null Count  Dtype  \n",
      "---  ------    --------------  -----  \n",
      " 0   age       1150 non-null   int64  \n",
      " 1   ed        1150 non-null   int64  \n",
      " 2   employ    1150 non-null   int64  \n",
      " 3   address   1150 non-null   int64  \n",
      " 4   income    1150 non-null   int64  \n",
      " 5   debtinc   1150 non-null   float64\n",
      " 6   creddebt  1150 non-null   float64\n",
      " 7   othdebt   1150 non-null   float64\n",
      " 8   default   700 non-null    float64\n",
      "dtypes: float64(4), int64(5)\n",
      "memory usage: 81.0 KB\n"
     ]
    }
   ],
   "source": [
    "dataset_df.info()"
   ]
  },
  {
   "cell_type": "markdown",
   "id": "8aa83ca3",
   "metadata": {
    "papermill": {
     "duration": 0.007394,
     "end_time": "2023-07-06T12:27:41.602715",
     "exception": false,
     "start_time": "2023-07-06T12:27:41.595321",
     "status": "completed"
    },
    "tags": []
   },
   "source": [
    "## Drop null row"
   ]
  },
  {
   "cell_type": "code",
   "execution_count": 4,
   "id": "92204bbb",
   "metadata": {
    "execution": {
     "iopub.execute_input": "2023-07-06T12:27:41.619865Z",
     "iopub.status.busy": "2023-07-06T12:27:41.619459Z",
     "iopub.status.idle": "2023-07-06T12:27:41.627163Z",
     "shell.execute_reply": "2023-07-06T12:27:41.626300Z"
    },
    "papermill": {
     "duration": 0.019188,
     "end_time": "2023-07-06T12:27:41.629601",
     "exception": false,
     "start_time": "2023-07-06T12:27:41.610413",
     "status": "completed"
    },
    "tags": []
   },
   "outputs": [],
   "source": [
    "dataset_df.dropna(inplace=True)"
   ]
  },
  {
   "cell_type": "code",
   "execution_count": 5,
   "id": "ba1c8547",
   "metadata": {
    "execution": {
     "iopub.execute_input": "2023-07-06T12:27:41.647109Z",
     "iopub.status.busy": "2023-07-06T12:27:41.646688Z",
     "iopub.status.idle": "2023-07-06T12:27:41.687761Z",
     "shell.execute_reply": "2023-07-06T12:27:41.686613Z"
    },
    "papermill": {
     "duration": 0.052776,
     "end_time": "2023-07-06T12:27:41.690226",
     "exception": false,
     "start_time": "2023-07-06T12:27:41.637450",
     "status": "completed"
    },
    "tags": []
   },
   "outputs": [
    {
     "data": {
      "text/html": [
       "<div>\n",
       "<style scoped>\n",
       "    .dataframe tbody tr th:only-of-type {\n",
       "        vertical-align: middle;\n",
       "    }\n",
       "\n",
       "    .dataframe tbody tr th {\n",
       "        vertical-align: top;\n",
       "    }\n",
       "\n",
       "    .dataframe thead th {\n",
       "        text-align: right;\n",
       "    }\n",
       "</style>\n",
       "<table border=\"1\" class=\"dataframe\">\n",
       "  <thead>\n",
       "    <tr style=\"text-align: right;\">\n",
       "      <th></th>\n",
       "      <th>age</th>\n",
       "      <th>ed</th>\n",
       "      <th>employ</th>\n",
       "      <th>address</th>\n",
       "      <th>income</th>\n",
       "      <th>debtinc</th>\n",
       "      <th>creddebt</th>\n",
       "      <th>othdebt</th>\n",
       "      <th>default</th>\n",
       "    </tr>\n",
       "  </thead>\n",
       "  <tbody>\n",
       "    <tr>\n",
       "      <th>count</th>\n",
       "      <td>700.000000</td>\n",
       "      <td>700.000000</td>\n",
       "      <td>700.000000</td>\n",
       "      <td>700.000000</td>\n",
       "      <td>700.000000</td>\n",
       "      <td>700.000000</td>\n",
       "      <td>700.000000</td>\n",
       "      <td>700.000000</td>\n",
       "      <td>700.000000</td>\n",
       "    </tr>\n",
       "    <tr>\n",
       "      <th>mean</th>\n",
       "      <td>34.860000</td>\n",
       "      <td>1.722857</td>\n",
       "      <td>8.388571</td>\n",
       "      <td>8.278571</td>\n",
       "      <td>45.601429</td>\n",
       "      <td>10.260571</td>\n",
       "      <td>1.553553</td>\n",
       "      <td>3.058209</td>\n",
       "      <td>0.261429</td>\n",
       "    </tr>\n",
       "    <tr>\n",
       "      <th>std</th>\n",
       "      <td>7.997342</td>\n",
       "      <td>0.928206</td>\n",
       "      <td>6.658039</td>\n",
       "      <td>6.824877</td>\n",
       "      <td>36.814226</td>\n",
       "      <td>6.827234</td>\n",
       "      <td>2.117197</td>\n",
       "      <td>3.287555</td>\n",
       "      <td>0.439727</td>\n",
       "    </tr>\n",
       "    <tr>\n",
       "      <th>min</th>\n",
       "      <td>20.000000</td>\n",
       "      <td>1.000000</td>\n",
       "      <td>0.000000</td>\n",
       "      <td>0.000000</td>\n",
       "      <td>14.000000</td>\n",
       "      <td>0.400000</td>\n",
       "      <td>0.011696</td>\n",
       "      <td>0.045584</td>\n",
       "      <td>0.000000</td>\n",
       "    </tr>\n",
       "    <tr>\n",
       "      <th>25%</th>\n",
       "      <td>29.000000</td>\n",
       "      <td>1.000000</td>\n",
       "      <td>3.000000</td>\n",
       "      <td>3.000000</td>\n",
       "      <td>24.000000</td>\n",
       "      <td>5.000000</td>\n",
       "      <td>0.369059</td>\n",
       "      <td>1.044178</td>\n",
       "      <td>0.000000</td>\n",
       "    </tr>\n",
       "    <tr>\n",
       "      <th>50%</th>\n",
       "      <td>34.000000</td>\n",
       "      <td>1.000000</td>\n",
       "      <td>7.000000</td>\n",
       "      <td>7.000000</td>\n",
       "      <td>34.000000</td>\n",
       "      <td>8.600000</td>\n",
       "      <td>0.854869</td>\n",
       "      <td>1.987567</td>\n",
       "      <td>0.000000</td>\n",
       "    </tr>\n",
       "    <tr>\n",
       "      <th>75%</th>\n",
       "      <td>40.000000</td>\n",
       "      <td>2.000000</td>\n",
       "      <td>12.000000</td>\n",
       "      <td>12.000000</td>\n",
       "      <td>55.000000</td>\n",
       "      <td>14.125000</td>\n",
       "      <td>1.901955</td>\n",
       "      <td>3.923065</td>\n",
       "      <td>1.000000</td>\n",
       "    </tr>\n",
       "    <tr>\n",
       "      <th>max</th>\n",
       "      <td>56.000000</td>\n",
       "      <td>5.000000</td>\n",
       "      <td>31.000000</td>\n",
       "      <td>34.000000</td>\n",
       "      <td>446.000000</td>\n",
       "      <td>41.300000</td>\n",
       "      <td>20.561310</td>\n",
       "      <td>27.033600</td>\n",
       "      <td>1.000000</td>\n",
       "    </tr>\n",
       "  </tbody>\n",
       "</table>\n",
       "</div>"
      ],
      "text/plain": [
       "              age          ed      employ     address      income     debtinc  \\\n",
       "count  700.000000  700.000000  700.000000  700.000000  700.000000  700.000000   \n",
       "mean    34.860000    1.722857    8.388571    8.278571   45.601429   10.260571   \n",
       "std      7.997342    0.928206    6.658039    6.824877   36.814226    6.827234   \n",
       "min     20.000000    1.000000    0.000000    0.000000   14.000000    0.400000   \n",
       "25%     29.000000    1.000000    3.000000    3.000000   24.000000    5.000000   \n",
       "50%     34.000000    1.000000    7.000000    7.000000   34.000000    8.600000   \n",
       "75%     40.000000    2.000000   12.000000   12.000000   55.000000   14.125000   \n",
       "max     56.000000    5.000000   31.000000   34.000000  446.000000   41.300000   \n",
       "\n",
       "         creddebt     othdebt     default  \n",
       "count  700.000000  700.000000  700.000000  \n",
       "mean     1.553553    3.058209    0.261429  \n",
       "std      2.117197    3.287555    0.439727  \n",
       "min      0.011696    0.045584    0.000000  \n",
       "25%      0.369059    1.044178    0.000000  \n",
       "50%      0.854869    1.987567    0.000000  \n",
       "75%      1.901955    3.923065    1.000000  \n",
       "max     20.561310   27.033600    1.000000  "
      ]
     },
     "execution_count": 5,
     "metadata": {},
     "output_type": "execute_result"
    }
   ],
   "source": [
    "dataset_df.describe()"
   ]
  },
  {
   "cell_type": "code",
   "execution_count": 6,
   "id": "465a60d3",
   "metadata": {
    "execution": {
     "iopub.execute_input": "2023-07-06T12:27:41.707998Z",
     "iopub.status.busy": "2023-07-06T12:27:41.707600Z",
     "iopub.status.idle": "2023-07-06T12:27:41.721933Z",
     "shell.execute_reply": "2023-07-06T12:27:41.720998Z"
    },
    "papermill": {
     "duration": 0.02573,
     "end_time": "2023-07-06T12:27:41.724192",
     "exception": false,
     "start_time": "2023-07-06T12:27:41.698462",
     "status": "completed"
    },
    "tags": []
   },
   "outputs": [
    {
     "data": {
      "text/html": [
       "<div>\n",
       "<style scoped>\n",
       "    .dataframe tbody tr th:only-of-type {\n",
       "        vertical-align: middle;\n",
       "    }\n",
       "\n",
       "    .dataframe tbody tr th {\n",
       "        vertical-align: top;\n",
       "    }\n",
       "\n",
       "    .dataframe thead th {\n",
       "        text-align: right;\n",
       "    }\n",
       "</style>\n",
       "<table border=\"1\" class=\"dataframe\">\n",
       "  <thead>\n",
       "    <tr style=\"text-align: right;\">\n",
       "      <th></th>\n",
       "      <th>age</th>\n",
       "      <th>ed</th>\n",
       "      <th>employ</th>\n",
       "      <th>address</th>\n",
       "      <th>income</th>\n",
       "      <th>debtinc</th>\n",
       "      <th>creddebt</th>\n",
       "      <th>othdebt</th>\n",
       "      <th>default</th>\n",
       "    </tr>\n",
       "  </thead>\n",
       "  <tbody>\n",
       "    <tr>\n",
       "      <th>0</th>\n",
       "      <td>41</td>\n",
       "      <td>3</td>\n",
       "      <td>17</td>\n",
       "      <td>12</td>\n",
       "      <td>176</td>\n",
       "      <td>9.3</td>\n",
       "      <td>11.359392</td>\n",
       "      <td>5.008608</td>\n",
       "      <td>1.0</td>\n",
       "    </tr>\n",
       "    <tr>\n",
       "      <th>1</th>\n",
       "      <td>27</td>\n",
       "      <td>1</td>\n",
       "      <td>10</td>\n",
       "      <td>6</td>\n",
       "      <td>31</td>\n",
       "      <td>17.3</td>\n",
       "      <td>1.362202</td>\n",
       "      <td>4.000798</td>\n",
       "      <td>0.0</td>\n",
       "    </tr>\n",
       "    <tr>\n",
       "      <th>2</th>\n",
       "      <td>40</td>\n",
       "      <td>1</td>\n",
       "      <td>15</td>\n",
       "      <td>14</td>\n",
       "      <td>55</td>\n",
       "      <td>5.5</td>\n",
       "      <td>0.856075</td>\n",
       "      <td>2.168925</td>\n",
       "      <td>0.0</td>\n",
       "    </tr>\n",
       "    <tr>\n",
       "      <th>3</th>\n",
       "      <td>41</td>\n",
       "      <td>1</td>\n",
       "      <td>15</td>\n",
       "      <td>14</td>\n",
       "      <td>120</td>\n",
       "      <td>2.9</td>\n",
       "      <td>2.658720</td>\n",
       "      <td>0.821280</td>\n",
       "      <td>0.0</td>\n",
       "    </tr>\n",
       "    <tr>\n",
       "      <th>4</th>\n",
       "      <td>24</td>\n",
       "      <td>2</td>\n",
       "      <td>2</td>\n",
       "      <td>0</td>\n",
       "      <td>28</td>\n",
       "      <td>17.3</td>\n",
       "      <td>1.787436</td>\n",
       "      <td>3.056564</td>\n",
       "      <td>1.0</td>\n",
       "    </tr>\n",
       "  </tbody>\n",
       "</table>\n",
       "</div>"
      ],
      "text/plain": [
       "   age  ed  employ  address  income  debtinc   creddebt   othdebt  default\n",
       "0   41   3      17       12     176      9.3  11.359392  5.008608      1.0\n",
       "1   27   1      10        6      31     17.3   1.362202  4.000798      0.0\n",
       "2   40   1      15       14      55      5.5   0.856075  2.168925      0.0\n",
       "3   41   1      15       14     120      2.9   2.658720  0.821280      0.0\n",
       "4   24   2       2        0      28     17.3   1.787436  3.056564      1.0"
      ]
     },
     "execution_count": 6,
     "metadata": {},
     "output_type": "execute_result"
    }
   ],
   "source": [
    "dataset_df.head()"
   ]
  },
  {
   "cell_type": "markdown",
   "id": "32e20ed9",
   "metadata": {
    "papermill": {
     "duration": 0.007773,
     "end_time": "2023-07-06T12:27:41.740417",
     "exception": false,
     "start_time": "2023-07-06T12:27:41.732644",
     "status": "completed"
    },
    "tags": []
   },
   "source": [
    "## Bar chart plot for label column: default"
   ]
  },
  {
   "cell_type": "code",
   "execution_count": 7,
   "id": "0f3b97f8",
   "metadata": {
    "execution": {
     "iopub.execute_input": "2023-07-06T12:27:41.758494Z",
     "iopub.status.busy": "2023-07-06T12:27:41.757807Z",
     "iopub.status.idle": "2023-07-06T12:27:42.037172Z",
     "shell.execute_reply": "2023-07-06T12:27:42.036135Z"
    },
    "papermill": {
     "duration": 0.291141,
     "end_time": "2023-07-06T12:27:42.039523",
     "exception": false,
     "start_time": "2023-07-06T12:27:41.748382",
     "status": "completed"
    },
    "tags": []
   },
   "outputs": [
    {
     "data": {
      "text/plain": [
       "<Axes: >"
      ]
     },
     "execution_count": 7,
     "metadata": {},
     "output_type": "execute_result"
    },
    {
     "data": {
      "image/png": "[encoded data removed]",
      "text/plain": [
       "<Figure size 640x480 with 1 Axes>"
      ]
     },
     "metadata": {},
     "output_type": "display_data"
    }
   ],
   "source": [
    "plot_df = dataset_df.default.value_counts()\n",
    "plot_df.plot(kind=\"bar\")"
   ]
  },
  {
   "cell_type": "markdown",
   "id": "7de7cd52",
   "metadata": {
    "papermill": {
     "duration": 0.008087,
     "end_time": "2023-07-06T12:27:42.055917",
     "exception": false,
     "start_time": "2023-07-06T12:27:42.047830",
     "status": "completed"
    },
    "tags": []
   },
   "source": [
    "* Imbalance data => Random Forest"
   ]
  },
  {
   "cell_type": "markdown",
   "id": "1af4ab2e",
   "metadata": {
    "papermill": {
     "duration": 0.007873,
     "end_time": "2023-07-06T12:27:42.071917",
     "exception": false,
     "start_time": "2023-07-06T12:27:42.064044",
     "status": "completed"
    },
    "tags": []
   },
   "source": [
    "## Prepare data"
   ]
  },
  {
   "cell_type": "markdown",
   "id": "8edcf2a2",
   "metadata": {
    "papermill": {
     "duration": 0.007917,
     "end_time": "2023-07-06T12:27:42.088094",
     "exception": false,
     "start_time": "2023-07-06T12:27:42.080177",
     "status": "completed"
    },
    "tags": []
   },
   "source": [
    "Split dataset into training testing dataset"
   ]
  },
  {
   "cell_type": "code",
   "execution_count": 8,
   "id": "cf95a18f",
   "metadata": {
    "execution": {
     "iopub.execute_input": "2023-07-06T12:27:42.106919Z",
     "iopub.status.busy": "2023-07-06T12:27:42.105687Z",
     "iopub.status.idle": "2023-07-06T12:27:42.113325Z",
     "shell.execute_reply": "2023-07-06T12:27:42.112287Z"
    },
    "papermill": {
     "duration": 0.019066,
     "end_time": "2023-07-06T12:27:42.115235",
     "exception": false,
     "start_time": "2023-07-06T12:27:42.096169",
     "status": "completed"
    },
    "tags": []
   },
   "outputs": [
    {
     "name": "stdout",
     "output_type": "stream",
     "text": [
      "548 152\n"
     ]
    }
   ],
   "source": [
    "test_ls = np.random.rand(len(dataset_df)) < 0.2\n",
    "train_df = dataset_df[~test_ls]\n",
    "test_df = dataset_df[test_ls]\n",
    "print(len(train_df), len(test_df))"
   ]
  },
  {
   "cell_type": "markdown",
   "id": "5ab0ef0f",
   "metadata": {
    "papermill": {
     "duration": 0.007996,
     "end_time": "2023-07-06T12:27:42.131497",
     "exception": false,
     "start_time": "2023-07-06T12:27:42.123501",
     "status": "completed"
    },
    "tags": []
   },
   "source": [
    "Convert Pandas DataFrame into Tensorflow Dataset for Random Forest Model"
   ]
  },
  {
   "cell_type": "code",
   "execution_count": 9,
   "id": "f03c5908",
   "metadata": {
    "execution": {
     "iopub.execute_input": "2023-07-06T12:27:42.150168Z",
     "iopub.status.busy": "2023-07-06T12:27:42.149187Z",
     "iopub.status.idle": "2023-07-06T12:27:42.273834Z",
     "shell.execute_reply": "2023-07-06T12:27:42.272761Z"
    },
    "papermill": {
     "duration": 0.13669,
     "end_time": "2023-07-06T12:27:42.276495",
     "exception": false,
     "start_time": "2023-07-06T12:27:42.139805",
     "status": "completed"
    },
    "tags": []
   },
   "outputs": [],
   "source": [
    "train_ds = tfdf.keras.pd_dataframe_to_tf_dataset(train_df, label=\"default\")\n",
    "test_ds = tfdf.keras.pd_dataframe_to_tf_dataset(test_df, label=\"default\")"
   ]
  },
  {
   "cell_type": "markdown",
   "id": "e6c370d6",
   "metadata": {
    "papermill": {
     "duration": 0.008493,
     "end_time": "2023-07-06T12:27:42.293551",
     "exception": false,
     "start_time": "2023-07-06T12:27:42.285058",
     "status": "completed"
    },
    "tags": []
   },
   "source": [
    "Convert into (X, y) pair for ANN model"
   ]
  },
  {
   "cell_type": "code",
   "execution_count": 10,
   "id": "66dccf5c",
   "metadata": {
    "execution": {
     "iopub.execute_input": "2023-07-06T12:27:42.314097Z",
     "iopub.status.busy": "2023-07-06T12:27:42.313702Z",
     "iopub.status.idle": "2023-07-06T12:27:42.328649Z",
     "shell.execute_reply": "2023-07-06T12:27:42.327464Z"
    },
    "papermill": {
     "duration": 0.026653,
     "end_time": "2023-07-06T12:27:42.330559",
     "exception": false,
     "start_time": "2023-07-06T12:27:42.303906",
     "status": "completed"
    },
    "tags": []
   },
   "outputs": [
    {
     "name": "stdout",
     "output_type": "stream",
     "text": [
      "(548, 8) (152, 8)\n",
      "(548, 2) (152, 2)\n"
     ]
    }
   ],
   "source": [
    "encoder = OneHotEncoder()\n",
    "def process(df):\n",
    "    return df.drop(columns=[\"default\"]).values, encoder.fit_transform(df[\"default\"].values.reshape(-1,1)).toarray()\n",
    "X_train,y_train = process(train_df)\n",
    "X_test, y_test = process(test_df)\n",
    "print(X_train.shape, X_test.shape)\n",
    "print(y_train.shape, y_test.shape)"
   ]
  },
  {
   "cell_type": "markdown",
   "id": "e3728b96",
   "metadata": {
    "papermill": {
     "duration": 0.008096,
     "end_time": "2023-07-06T12:27:42.347096",
     "exception": false,
     "start_time": "2023-07-06T12:27:42.339000",
     "status": "completed"
    },
    "tags": []
   },
   "source": [
    "# Random Forest Model"
   ]
  },
  {
   "cell_type": "code",
   "execution_count": 11,
   "id": "9994814e",
   "metadata": {
    "execution": {
     "iopub.execute_input": "2023-07-06T12:27:42.366234Z",
     "iopub.status.busy": "2023-07-06T12:27:42.365582Z",
     "iopub.status.idle": "2023-07-06T12:27:42.421525Z",
     "shell.execute_reply": "2023-07-06T12:27:42.420420Z"
    },
    "papermill": {
     "duration": 0.067997,
     "end_time": "2023-07-06T12:27:42.423910",
     "exception": false,
     "start_time": "2023-07-06T12:27:42.355913",
     "status": "completed"
    },
    "tags": []
   },
   "outputs": [
    {
     "name": "stdout",
     "output_type": "stream",
     "text": [
      "Use /tmp/tmpg6c4oigs as temporary training directory\n"
     ]
    }
   ],
   "source": [
    "rf = tfdf.keras.RandomForestModel()\n",
    "rf.compile(metrics=[\"accuracy\"])"
   ]
  },
  {
   "cell_type": "markdown",
   "id": "548aca0b",
   "metadata": {
    "papermill": {
     "duration": 0.008176,
     "end_time": "2023-07-06T12:27:42.440936",
     "exception": false,
     "start_time": "2023-07-06T12:27:42.432760",
     "status": "completed"
    },
    "tags": []
   },
   "source": [
    "## Train rf model"
   ]
  },
  {
   "cell_type": "code",
   "execution_count": 12,
   "id": "91e2e31a",
   "metadata": {
    "execution": {
     "iopub.execute_input": "2023-07-06T12:27:42.459798Z",
     "iopub.status.busy": "2023-07-06T12:27:42.458874Z",
     "iopub.status.idle": "2023-07-06T12:27:50.124715Z",
     "shell.execute_reply": "2023-07-06T12:27:50.123888Z"
    },
    "papermill": {
     "duration": 7.677502,
     "end_time": "2023-07-06T12:27:50.126690",
     "exception": false,
     "start_time": "2023-07-06T12:27:42.449188",
     "status": "completed"
    },
    "tags": []
   },
   "outputs": [
    {
     "name": "stdout",
     "output_type": "stream",
     "text": [
      "Reading training dataset...\n",
      "Training dataset read in 0:00:05.304508. Found 548 examples.\n",
      "Training model...\n",
      "Model trained in 0:00:00.300644\n",
      "Compiling model...\n"
     ]
    },
    {
     "name": "stderr",
     "output_type": "stream",
     "text": [
      "[INFO 23-07-06 12:27:47.9669 UTC kernel.cc:1242] Loading model from path /tmp/tmpg6c4oigs/model/ with prefix ab23ae1f1f0d47c7\n",
      "[INFO 23-07-06 12:27:48.0695 UTC decision_forest.cc:660] Model loaded with 300 root(s), 27816 node(s), and 8 input feature(s).\n",
      "[INFO 23-07-06 12:27:48.0695 UTC abstract_model.cc:1311] Engine \"RandomForestOptPred\" built\n",
      "[INFO 23-07-06 12:27:48.0695 UTC kernel.cc:1074] Use fast generic engine\n"
     ]
    },
    {
     "name": "stdout",
     "output_type": "stream",
     "text": [
      "WARNING: AutoGraph could not transform <function simple_ml_inference_op_with_handle at 0x7b47f4cf2b90> and will run it as-is.\n",
      "Please report this to the TensorFlow team. When filing the bug, set the verbosity to 10 (on Linux, `export AUTOGRAPH_VERBOSITY=10`) and attach the full output.\n",
      "Cause: could not get source code\n",
      "To silence this warning, decorate the function with @tf.autograph.experimental.do_not_convert\n",
      "Model compiled.\n"
     ]
    },
    {
     "data": {
      "text/plain": [
       "<keras.callbacks.History at 0x7b4793600490>"
      ]
     },
     "execution_count": 12,
     "metadata": {},
     "output_type": "execute_result"
    }
   ],
   "source": [
    "rf.fit(x=train_ds)"
   ]
  },
  {
   "cell_type": "markdown",
   "id": "bde31871",
   "metadata": {
    "papermill": {
     "duration": 0.0088,
     "end_time": "2023-07-06T12:27:50.144683",
     "exception": false,
     "start_time": "2023-07-06T12:27:50.135883",
     "status": "completed"
    },
    "tags": []
   },
   "source": [
    "## Visualize model"
   ]
  },
  {
   "cell_type": "code",
   "execution_count": 13,
   "id": "c09d9fec",
   "metadata": {
    "execution": {
     "iopub.execute_input": "2023-07-06T12:27:50.165126Z",
     "iopub.status.busy": "2023-07-06T12:27:50.164127Z",
     "iopub.status.idle": "2023-07-06T12:27:50.176931Z",
     "shell.execute_reply": "2023-07-06T12:27:50.176087Z"
    },
    "papermill": {
     "duration": 0.025197,
     "end_time": "2023-07-06T12:27:50.178999",
     "exception": false,
     "start_time": "2023-07-06T12:27:50.153802",
     "status": "completed"
    },
    "tags": []
   },
   "outputs": [
    {
     "data": {
      "text/html": [
       "\n",
       "<script src=\"https://d3js.org/d3.v6.min.js\"></script>\n",
       "<div id=\"tree_plot_7f36c5d574734c81ad4a67dc32c99bbc\"></div>\n",
       "<script>\n",
       "/*\n",
       " * Copyright 2021 Google LLC.\n",
       " * Licensed under the Apache License, Version 2.0 (the \"License\");\n",
       " * you may not use this file except in compliance with the License.\n",
       " * You may obtain a copy of the License at\n",
       " *\n",
       " *     https://www.apache.org/licenses/LICENSE-2.0\n",
       " *\n",
       " * Unless required by applicable law or agreed to in writing, software\n",
       " * distributed under the License is distributed on an \"AS IS\" BASIS,\n",
       " * WITHOUT WARRANTIES OR CONDITIONS OF ANY KIND, either express or implied.\n",
       " * See the License for the specific language governing permissions and\n",
       " * limitations under the License.\n",
       " */\n",
       "\n",
       "/**\n",
       " *  Plotting of decision trees generated by TF-DF.\n",
       " *\n",
       " *  A tree is a recursive structure of node objects.\n",
       " *  A node contains one or more of the following components:\n",
       " *\n",
       " *    - A value: Representing the output of the node. If the node is not a leaf,\n",
       " *      the value is only present for analysis i.e. it is not used for\n",
       " *      predictions.\n",
       " *\n",
       " *    - A condition : For non-leaf nodes, the condition (also known as split)\n",
       " *      defines a binary test to branch to the positive or negative child.\n",
       " *\n",
       " *    - An explanation: Generally a plot showing the relation between the label\n",
       " *      and the condition to give insights about the effect of the condition.\n",
       " *\n",
       " *    - Two children : For non-leaf nodes, the children nodes. The first\n",
       " *      children (i.e. \"node.children[0]\") is the negative children (drawn in\n",
       " *      red). The second children is the positive one (drawn in green).\n",
       " *\n",
       " */\n",
       "\n",
       "/**\n",
       " * Plots a single decision tree into a DOM element.\n",
       " * @param {!options} options Dictionary of configurations.\n",
       " * @param {!tree} raw_tree Recursive tree structure.\n",
       " * @param {string} canvas_id Id of the output dom element.\n",
       " */\n",
       "function display_tree(options, raw_tree, canvas_id) {\n",
       "  console.log(options);\n",
       "\n",
       "  // Determine the node placement.\n",
       "  const tree_struct = d3.tree().nodeSize(\n",
       "      [options.node_y_offset, options.node_x_offset])(d3.hierarchy(raw_tree));\n",
       "\n",
       "  // Boundaries of the node placement.\n",
       "  let x_min = Infinity;\n",
       "  let x_max = -x_min;\n",
       "  let y_min = Infinity;\n",
       "  let y_max = -x_min;\n",
       "\n",
       "  tree_struct.each(d => {\n",
       "    if (d.x > x_max) x_max = d.x;\n",
       "    if (d.x < x_min) x_min = d.x;\n",
       "    if (d.y > y_max) y_max = d.y;\n",
       "    if (d.y < y_min) y_min = d.y;\n",
       "  });\n",
       "\n",
       "  // Size of the plot.\n",
       "  const width = y_max - y_min + options.node_x_size + options.margin * 2;\n",
       "  const height = x_max - x_min + options.node_y_size + options.margin * 2 +\n",
       "      options.node_y_offset - options.node_y_size;\n",
       "\n",
       "  const plot = d3.select(canvas_id);\n",
       "\n",
       "  // Tool tip\n",
       "  options.tooltip = plot.append('div')\n",
       "                        .attr('width', 100)\n",
       "                        .attr('height', 100)\n",
       "                        .style('padding', '4px')\n",
       "                        .style('background', '#fff')\n",
       "                        .style('box-shadow', '4px 4px 0px rgba(0,0,0,0.1)')\n",
       "                        .style('border', '1px solid black')\n",
       "                        .style('font-family', 'sans-serif')\n",
       "                        .style('font-size', options.font_size)\n",
       "                        .style('position', 'absolute')\n",
       "                        .style('z-index', '10')\n",
       "                        .attr('pointer-events', 'none')\n",
       "                        .style('display', 'none');\n",
       "\n",
       "  // Create canvas\n",
       "  const svg = plot.append('svg').attr('width', width).attr('height', height);\n",
       "  const graph =\n",
       "      svg.style('overflow', 'visible')\n",
       "          .append('g')\n",
       "          .attr('font-family', 'sans-serif')\n",
       "          .attr('font-size', options.font_size)\n",
       "          .attr(\n",
       "              'transform',\n",
       "              () => `translate(${options.margin},${\n",
       "                  - x_min + options.node_y_offset / 2 + options.margin})`);\n",
       "\n",
       "  // Plot bounding box.\n",
       "  if (options.show_plot_bounding_box) {\n",
       "    svg.append('rect')\n",
       "        .attr('width', width)\n",
       "        .attr('height', height)\n",
       "        .attr('fill', 'none')\n",
       "        .attr('stroke-width', 1.0)\n",
       "        .attr('stroke', 'black');\n",
       "  }\n",
       "\n",
       "  // Draw the edges.\n",
       "  display_edges(options, graph, tree_struct);\n",
       "\n",
       "  // Draw the nodes.\n",
       "  display_nodes(options, graph, tree_struct);\n",
       "}\n",
       "\n",
       "/**\n",
       " * Draw the nodes of the tree.\n",
       " * @param {!options} options Dictionary of configurations.\n",
       " * @param {!graph} graph D3 search handle containing the graph.\n",
       " * @param {!tree_struct} tree_struct Structure of the tree (node placement,\n",
       " *     data, etc.).\n",
       " */\n",
       "function display_nodes(options, graph, tree_struct) {\n",
       "  const nodes = graph.append('g')\n",
       "                    .selectAll('g')\n",
       "                    .data(tree_struct.descendants())\n",
       "                    .join('g')\n",
       "                    .attr('transform', d => `translate(${d.y},${d.x})`);\n",
       "\n",
       "  nodes.append('rect')\n",
       "      .attr('x', 0.5)\n",
       "      .attr('y', 0.5)\n",
       "      .attr('width', options.node_x_size)\n",
       "      .attr('height', options.node_y_size)\n",
       "      .attr('stroke', 'lightgrey')\n",
       "      .attr('stroke-width', 1)\n",
       "      .attr('fill', 'white')\n",
       "      .attr('y', -options.node_y_size / 2);\n",
       "\n",
       "  // Brackets on the right of condition nodes without children.\n",
       "  non_leaf_node_without_children =\n",
       "      nodes.filter(node => node.data.condition != null && node.children == null)\n",
       "          .append('g')\n",
       "          .attr('transform', `translate(${options.node_x_size},0)`);\n",
       "\n",
       "  non_leaf_node_without_children.append('path')\n",
       "      .attr('d', 'M0,0 C 10,0 0,10 10,10')\n",
       "      .attr('fill', 'none')\n",
       "      .attr('stroke-width', 1.0)\n",
       "      .attr('stroke', '#F00');\n",
       "\n",
       "  non_leaf_node_without_children.append('path')\n",
       "      .attr('d', 'M0,0 C 10,0 0,-10 10,-10')\n",
       "      .attr('fill', 'none')\n",
       "      .attr('stroke-width', 1.0)\n",
       "      .attr('stroke', '#0F0');\n",
       "\n",
       "  const node_content = nodes.append('g').attr(\n",
       "      'transform',\n",
       "      `translate(0,${options.node_padding - options.node_y_size / 2})`);\n",
       "\n",
       "  node_content.append(node => create_node_element(options, node));\n",
       "}\n",
       "\n",
       "/**\n",
       " * Creates the D3 content for a single node.\n",
       " * @param {!options} options Dictionary of configurations.\n",
       " * @param {!node} node Node to draw.\n",
       " * @return {!d3} D3 content.\n",
       " */\n",
       "function create_node_element(options, node) {\n",
       "  // Output accumulator.\n",
       "  let output = {\n",
       "    // Content to draw.\n",
       "    content: d3.create('svg:g'),\n",
       "    // Vertical offset to the next element to draw.\n",
       "    vertical_offset: 0\n",
       "  };\n",
       "\n",
       "  // Conditions.\n",
       "  if (node.data.condition != null) {\n",
       "    display_condition(options, node.data.condition, output);\n",
       "  }\n",
       "\n",
       "  // Values.\n",
       "  if (node.data.value != null) {\n",
       "    display_value(options, node.data.value, output);\n",
       "  }\n",
       "\n",
       "  // Explanations.\n",
       "  if (node.data.explanation != null) {\n",
       "    display_explanation(options, node.data.explanation, output);\n",
       "  }\n",
       "\n",
       "  return output.content.node();\n",
       "}\n",
       "\n",
       "\n",
       "/**\n",
       " * Adds a single line of text inside of a node.\n",
       " * @param {!options} options Dictionary of configurations.\n",
       " * @param {string} text Text to display.\n",
       " * @param {!output} output Output display accumulator.\n",
       " */\n",
       "function display_node_text(options, text, output) {\n",
       "  output.content.append('text')\n",
       "      .attr('x', options.node_padding)\n",
       "      .attr('y', output.vertical_offset)\n",
       "      .attr('alignment-baseline', 'hanging')\n",
       "      .text(text);\n",
       "  output.vertical_offset += 10;\n",
       "}\n",
       "\n",
       "/**\n",
       " * Adds a single line of text inside of a node with a tooltip.\n",
       " * @param {!options} options Dictionary of configurations.\n",
       " * @param {string} text Text to display.\n",
       " * @param {string} tooltip Text in the Tooltip.\n",
       " * @param {!output} output Output display accumulator.\n",
       " */\n",
       "function display_node_text_with_tooltip(options, text, tooltip, output) {\n",
       "  const item = output.content.append('text')\n",
       "                   .attr('x', options.node_padding)\n",
       "                   .attr('alignment-baseline', 'hanging')\n",
       "                   .text(text);\n",
       "\n",
       "  add_tooltip(options, item, () => tooltip);\n",
       "  output.vertical_offset += 10;\n",
       "}\n",
       "\n",
       "/**\n",
       " * Adds a tooltip to a dom element.\n",
       " * @param {!options} options Dictionary of configurations.\n",
       " * @param {!dom} target Dom element to equip with a tooltip.\n",
       " * @param {!func} get_content Generates the html content of the tooltip.\n",
       " */\n",
       "function add_tooltip(options, target, get_content) {\n",
       "  function show(d) {\n",
       "    options.tooltip.style('display', 'block');\n",
       "    options.tooltip.html(get_content());\n",
       "  }\n",
       "\n",
       "  function hide(d) {\n",
       "    options.tooltip.style('display', 'none');\n",
       "  }\n",
       "\n",
       "  function move(d) {\n",
       "    options.tooltip.style('display', 'block');\n",
       "    options.tooltip.style('left', (d.pageX + 5) + 'px');\n",
       "    options.tooltip.style('top', d.pageY + 'px');\n",
       "  }\n",
       "\n",
       "  target.on('mouseover', show);\n",
       "  target.on('mouseout', hide);\n",
       "  target.on('mousemove', move);\n",
       "}\n",
       "\n",
       "/**\n",
       " * Adds a condition inside of a node.\n",
       " * @param {!options} options Dictionary of configurations.\n",
       " * @param {!condition} condition Condition to display.\n",
       " * @param {!output} output Output display accumulator.\n",
       " */\n",
       "function display_condition(options, condition, output) {\n",
       "  threshold_format = d3.format('r');\n",
       "\n",
       "  if (condition.type === 'IS_MISSING') {\n",
       "    display_node_text(options, `${condition.attribute} is missing`, output);\n",
       "    return;\n",
       "  }\n",
       "\n",
       "  if (condition.type === 'IS_TRUE') {\n",
       "    display_node_text(options, `${condition.attribute} is true`, output);\n",
       "    return;\n",
       "  }\n",
       "\n",
       "  if (condition.type === 'NUMERICAL_IS_HIGHER_THAN') {\n",
       "    format = d3.format('r');\n",
       "    display_node_text(\n",
       "        options,\n",
       "        `${condition.attribute} >= ${threshold_format(condition.threshold)}`,\n",
       "        output);\n",
       "    return;\n",
       "  }\n",
       "\n",
       "  if (condition.type === 'CATEGORICAL_IS_IN') {\n",
       "    display_node_text_with_tooltip(\n",
       "        options, `${condition.attribute} in [...]`,\n",
       "        `${condition.attribute} in [${condition.mask}]`, output);\n",
       "    return;\n",
       "  }\n",
       "\n",
       "  if (condition.type === 'CATEGORICAL_SET_CONTAINS') {\n",
       "    display_node_text_with_tooltip(\n",
       "        options, `${condition.attribute} intersect [...]`,\n",
       "        `${condition.attribute} intersect [${condition.mask}]`, output);\n",
       "    return;\n",
       "  }\n",
       "\n",
       "  if (condition.type === 'NUMERICAL_SPARSE_OBLIQUE') {\n",
       "    display_node_text_with_tooltip(\n",
       "        options, `Sparse oblique split...`,\n",
       "        `[${condition.attributes}]*[${condition.weights}]>=${\n",
       "            threshold_format(condition.threshold)}`,\n",
       "        output);\n",
       "    return;\n",
       "  }\n",
       "\n",
       "  display_node_text(\n",
       "      options, `Non supported condition ${condition.type}`, output);\n",
       "}\n",
       "\n",
       "/**\n",
       " * Adds a value inside of a node.\n",
       " * @param {!options} options Dictionary of configurations.\n",
       " * @param {!value} value Value to display.\n",
       " * @param {!output} output Output display accumulator.\n",
       " */\n",
       "function display_value(options, value, output) {\n",
       "  if (value.type === 'PROBABILITY') {\n",
       "    const left_margin = 0;\n",
       "    const right_margin = 50;\n",
       "    const plot_width = options.node_x_size - options.node_padding * 2 -\n",
       "        left_margin - right_margin;\n",
       "\n",
       "    let cusum = Array.from(d3.cumsum(value.distribution));\n",
       "    cusum.unshift(0);\n",
       "    const distribution_plot = output.content.append('g').attr(\n",
       "        'transform', `translate(0,${output.vertical_offset + 0.5})`);\n",
       "\n",
       "    distribution_plot.selectAll('rect')\n",
       "        .data(value.distribution)\n",
       "        .join('rect')\n",
       "        .attr('height', 10)\n",
       "        .attr(\n",
       "            'x',\n",
       "            (d, i) =>\n",
       "                (cusum[i] * plot_width + left_margin + options.node_padding))\n",
       "        .attr('width', (d, i) => d * plot_width)\n",
       "        .style('fill', (d, i) => d3.schemeSet1[i]);\n",
       "\n",
       "    const num_examples =\n",
       "        output.content.append('g')\n",
       "            .attr('transform', `translate(0,${output.vertical_offset})`)\n",
       "            .append('text')\n",
       "            .attr('x', options.node_x_size - options.node_padding)\n",
       "            .attr('alignment-baseline', 'hanging')\n",
       "            .attr('text-anchor', 'end')\n",
       "            .text(`(${value.num_examples})`);\n",
       "\n",
       "    const distribution_details = d3.create('ul');\n",
       "    distribution_details.selectAll('li')\n",
       "        .data(value.distribution)\n",
       "        .join('li')\n",
       "        .append('span')\n",
       "        .text(\n",
       "            (d, i) =>\n",
       "                'class ' + i + ': ' + d3.format('.3%')(value.distribution[i]));\n",
       "\n",
       "    add_tooltip(options, distribution_plot, () => distribution_details.html());\n",
       "    add_tooltip(options, num_examples, () => 'Number of examples');\n",
       "\n",
       "    output.vertical_offset += 10;\n",
       "    return;\n",
       "  }\n",
       "\n",
       "  if (value.type === 'REGRESSION') {\n",
       "    display_node_text(\n",
       "        options,\n",
       "        'value: ' + d3.format('r')(value.value) + ` (` +\n",
       "            d3.format('.6')(value.num_examples) + `)`,\n",
       "        output);\n",
       "    return;\n",
       "  }\n",
       "\n",
       "  display_node_text(options, `Non supported value ${value.type}`, output);\n",
       "}\n",
       "\n",
       "/**\n",
       " * Adds an explanation inside of a node.\n",
       " * @param {!options} options Dictionary of configurations.\n",
       " * @param {!explanation} explanation Explanation to display.\n",
       " * @param {!output} output Output display accumulator.\n",
       " */\n",
       "function display_explanation(options, explanation, output) {\n",
       "  // Margin before the explanation.\n",
       "  output.vertical_offset += 10;\n",
       "\n",
       "  display_node_text(\n",
       "      options, `Non supported explanation ${explanation.type}`, output);\n",
       "}\n",
       "\n",
       "\n",
       "/**\n",
       " * Draw the edges of the tree.\n",
       " * @param {!options} options Dictionary of configurations.\n",
       " * @param {!graph} graph D3 search handle containing the graph.\n",
       " * @param {!tree_struct} tree_struct Structure of the tree (node placement,\n",
       " *     data, etc.).\n",
       " */\n",
       "function display_edges(options, graph, tree_struct) {\n",
       "  // Draw an edge between a parent and a child node with a bezier.\n",
       "  function draw_single_edge(d) {\n",
       "    return 'M' + (d.source.y + options.node_x_size) + ',' + d.source.x + ' C' +\n",
       "        (d.source.y + options.node_x_size + options.edge_rounding) + ',' +\n",
       "        d.source.x + ' ' + (d.target.y - options.edge_rounding) + ',' +\n",
       "        d.target.x + ' ' + d.target.y + ',' + d.target.x;\n",
       "  }\n",
       "\n",
       "  graph.append('g')\n",
       "      .attr('fill', 'none')\n",
       "      .attr('stroke-width', 1.2)\n",
       "      .selectAll('path')\n",
       "      .data(tree_struct.links())\n",
       "      .join('path')\n",
       "      .attr('d', draw_single_edge)\n",
       "      .attr(\n",
       "          'stroke', d => (d.target === d.source.children[0]) ? '#0F0' : '#F00');\n",
       "}\n",
       "\n",
       "display_tree({\"margin\": 10, \"node_x_size\": 160, \"node_y_size\": 28, \"node_x_offset\": 180, \"node_y_offset\": 33, \"font_size\": 10, \"edge_rounding\": 20, \"node_padding\": 2, \"show_plot_bounding_box\": false}, {\"value\": {\"type\": \"PROBABILITY\", \"distribution\": [0.7481751824817519, 0.2518248175182482], \"num_examples\": 548.0}, \"condition\": {\"type\": \"NUMERICAL_IS_HIGHER_THAN\", \"attribute\": \"debtinc\", \"threshold\": 12.449999809265137}, \"children\": [{\"value\": {\"type\": \"PROBABILITY\", \"distribution\": [0.5153374233128835, 0.48466257668711654], \"num_examples\": 163.0}, \"condition\": {\"type\": \"NUMERICAL_IS_HIGHER_THAN\", \"attribute\": \"age\", \"threshold\": 33.5}, \"children\": [{\"value\": {\"type\": \"PROBABILITY\", \"distribution\": [0.6881720430107527, 0.3118279569892473], \"num_examples\": 93.0}, \"condition\": {\"type\": \"NUMERICAL_IS_HIGHER_THAN\", \"attribute\": \"employ\", \"threshold\": 16.5}, \"children\": [{\"value\": {\"type\": \"PROBABILITY\", \"distribution\": [0.9583333333333334, 0.041666666666666664], \"num_examples\": 24.0}, \"condition\": {\"type\": \"NUMERICAL_IS_HIGHER_THAN\", \"attribute\": \"income\", \"threshold\": 95.5}}, {\"value\": {\"type\": \"PROBABILITY\", \"distribution\": [0.5942028985507246, 0.4057971014492754], \"num_examples\": 69.0}, \"condition\": {\"type\": \"NUMERICAL_IS_HIGHER_THAN\", \"attribute\": \"creddebt\", \"threshold\": 5.402943134307861}}]}, {\"value\": {\"type\": \"PROBABILITY\", \"distribution\": [0.2857142857142857, 0.7142857142857143], \"num_examples\": 70.0}, \"condition\": {\"type\": \"NUMERICAL_IS_HIGHER_THAN\", \"attribute\": \"othdebt\", \"threshold\": 2.9546728134155273}, \"children\": [{\"value\": {\"type\": \"PROBABILITY\", \"distribution\": [0.48484848484848486, 0.5151515151515151], \"num_examples\": 33.0}, \"condition\": {\"type\": \"NUMERICAL_IS_HIGHER_THAN\", \"attribute\": \"creddebt\", \"threshold\": 4.907314300537109}}, {\"value\": {\"type\": \"PROBABILITY\", \"distribution\": [0.10810810810810811, 0.8918918918918919], \"num_examples\": 37.0}, \"condition\": {\"type\": \"NUMERICAL_IS_HIGHER_THAN\", \"attribute\": \"age\", \"threshold\": 27.5}}]}]}, {\"value\": {\"type\": \"PROBABILITY\", \"distribution\": [0.8467532467532467, 0.15324675324675324], \"num_examples\": 385.0}, \"condition\": {\"type\": \"NUMERICAL_IS_HIGHER_THAN\", \"attribute\": \"address\", \"threshold\": 6.5}, \"children\": [{\"value\": {\"type\": \"PROBABILITY\", \"distribution\": [0.9435897435897436, 0.05641025641025641], \"num_examples\": 195.0}, \"condition\": {\"type\": \"NUMERICAL_IS_HIGHER_THAN\", \"attribute\": \"debtinc\", \"threshold\": 4.550000190734863}, \"children\": [{\"value\": {\"type\": \"PROBABILITY\", \"distribution\": [0.920863309352518, 0.07913669064748201], \"num_examples\": 139.0}, \"condition\": {\"type\": \"NUMERICAL_IS_HIGHER_THAN\", \"attribute\": \"employ\", \"threshold\": 8.5}}, {\"value\": {\"type\": \"PROBABILITY\", \"distribution\": [1.0, 0.0], \"num_examples\": 56.0}}]}, {\"value\": {\"type\": \"PROBABILITY\", \"distribution\": [0.7473684210526316, 0.25263157894736843], \"num_examples\": 190.0}, \"condition\": {\"type\": \"NUMERICAL_IS_HIGHER_THAN\", \"attribute\": \"income\", \"threshold\": 51.0}, \"children\": [{\"value\": {\"type\": \"PROBABILITY\", \"distribution\": [0.9722222222222222, 0.027777777777777776], \"num_examples\": 36.0}, \"condition\": {\"type\": \"NUMERICAL_IS_HIGHER_THAN\", \"attribute\": \"age\", \"threshold\": 29.5}}, {\"value\": {\"type\": \"PROBABILITY\", \"distribution\": [0.6948051948051948, 0.3051948051948052], \"num_examples\": 154.0}, \"condition\": {\"type\": \"NUMERICAL_IS_HIGHER_THAN\", \"attribute\": \"employ\", \"threshold\": 3.5}}]}]}]}, \"#tree_plot_7f36c5d574734c81ad4a67dc32c99bbc\")\n",
       "</script>\n"
      ],
      "text/plain": [
       "<IPython.core.display.HTML object>"
      ]
     },
     "execution_count": 13,
     "metadata": {},
     "output_type": "execute_result"
    }
   ],
   "source": [
    "tfdf.model_plotter.plot_model_in_colab(rf, tree_idx=0, max_depth=3)"
   ]
  },
  {
   "cell_type": "markdown",
   "id": "d939995b",
   "metadata": {
    "papermill": {
     "duration": 0.00935,
     "end_time": "2023-07-06T12:27:50.198216",
     "exception": false,
     "start_time": "2023-07-06T12:27:50.188866",
     "status": "completed"
    },
    "tags": []
   },
   "source": [
    "## Evaluate"
   ]
  },
  {
   "cell_type": "markdown",
   "id": "dbff92aa",
   "metadata": {
    "papermill": {
     "duration": 0.009326,
     "end_time": "2023-07-06T12:27:50.217185",
     "exception": false,
     "start_time": "2023-07-06T12:27:50.207859",
     "status": "completed"
    },
    "tags": []
   },
   "source": [
    "OOB dataset (Out of bag)"
   ]
  },
  {
   "cell_type": "code",
   "execution_count": 14,
   "id": "9f5b7183",
   "metadata": {
    "execution": {
     "iopub.execute_input": "2023-07-06T12:27:50.238689Z",
     "iopub.status.busy": "2023-07-06T12:27:50.237707Z",
     "iopub.status.idle": "2023-07-06T12:27:50.455375Z",
     "shell.execute_reply": "2023-07-06T12:27:50.454640Z"
    },
    "papermill": {
     "duration": 0.23042,
     "end_time": "2023-07-06T12:27:50.457314",
     "exception": false,
     "start_time": "2023-07-06T12:27:50.226894",
     "status": "completed"
    },
    "tags": []
   },
   "outputs": [
    {
     "data": {
      "image/png": "[encoded data removed]",
      "text/plain": [
       "<Figure size 640x480 with 1 Axes>"
      ]
     },
     "metadata": {},
     "output_type": "display_data"
    }
   ],
   "source": [
    "import matplotlib.pyplot as plt\n",
    "logs = rf.make_inspector().training_logs()\n",
    "plt.plot([log.num_trees for log in logs], [log.evaluation.accuracy for log in logs])\n",
    "plt.xlabel(\"Number of trees\")\n",
    "plt.ylabel(\"Accuracy (out-of-bag)\")\n",
    "plt.show()"
   ]
  },
  {
   "cell_type": "code",
   "execution_count": 15,
   "id": "57ee4fd3",
   "metadata": {
    "execution": {
     "iopub.execute_input": "2023-07-06T12:27:50.480171Z",
     "iopub.status.busy": "2023-07-06T12:27:50.479288Z",
     "iopub.status.idle": "2023-07-06T12:27:50.486337Z",
     "shell.execute_reply": "2023-07-06T12:27:50.485680Z"
    },
    "papermill": {
     "duration": 0.020373,
     "end_time": "2023-07-06T12:27:50.488148",
     "exception": false,
     "start_time": "2023-07-06T12:27:50.467775",
     "status": "completed"
    },
    "tags": []
   },
   "outputs": [
    {
     "data": {
      "text/plain": [
       "Evaluation(num_examples=548, accuracy=0.7645985401459854, loss=0.5772951349129996, rmse=None, ndcg=None, aucs=None, auuc=None, qini=None)"
      ]
     },
     "execution_count": 15,
     "metadata": {},
     "output_type": "execute_result"
    }
   ],
   "source": [
    "inspector = rf.make_inspector()\n",
    "inspector.evaluation()"
   ]
  },
  {
   "cell_type": "markdown",
   "id": "a7750cf6",
   "metadata": {
    "papermill": {
     "duration": 0.010158,
     "end_time": "2023-07-06T12:27:50.509616",
     "exception": false,
     "start_time": "2023-07-06T12:27:50.499458",
     "status": "completed"
    },
    "tags": []
   },
   "source": [
    "Test set"
   ]
  },
  {
   "cell_type": "code",
   "execution_count": 16,
   "id": "efd2a45d",
   "metadata": {
    "execution": {
     "iopub.execute_input": "2023-07-06T12:27:50.532434Z",
     "iopub.status.busy": "2023-07-06T12:27:50.531794Z",
     "iopub.status.idle": "2023-07-06T12:27:50.962563Z",
     "shell.execute_reply": "2023-07-06T12:27:50.961515Z"
    },
    "papermill": {
     "duration": 0.444685,
     "end_time": "2023-07-06T12:27:50.964740",
     "exception": false,
     "start_time": "2023-07-06T12:27:50.520055",
     "status": "completed"
    },
    "tags": []
   },
   "outputs": [
    {
     "name": "stdout",
     "output_type": "stream",
     "text": [
      "1/1 [==============================] - 0s 418ms/step - loss: 0.0000e+00 - accuracy: 0.8092\n",
      "loss: 0.0000\n",
      "accuracy: 0.8092\n"
     ]
    }
   ],
   "source": [
    "evaluation = rf.evaluate(x=test_ds,return_dict=True)\n",
    "\n",
    "for name, value in evaluation.items():\n",
    "  print(f\"{name}: {value:.4f}\")"
   ]
  },
  {
   "cell_type": "markdown",
   "id": "4d5b52bb",
   "metadata": {
    "papermill": {
     "duration": 0.010235,
     "end_time": "2023-07-06T12:27:50.986031",
     "exception": false,
     "start_time": "2023-07-06T12:27:50.975796",
     "status": "completed"
    },
    "tags": []
   },
   "source": [
    "# ANN model"
   ]
  },
  {
   "cell_type": "code",
   "execution_count": 17,
   "id": "b6bd1277",
   "metadata": {
    "execution": {
     "iopub.execute_input": "2023-07-06T12:27:51.009266Z",
     "iopub.status.busy": "2023-07-06T12:27:51.008707Z",
     "iopub.status.idle": "2023-07-06T12:27:51.013271Z",
     "shell.execute_reply": "2023-07-06T12:27:51.012302Z"
    },
    "papermill": {
     "duration": 0.018946,
     "end_time": "2023-07-06T12:27:51.015569",
     "exception": false,
     "start_time": "2023-07-06T12:27:50.996623",
     "status": "completed"
    },
    "tags": []
   },
   "outputs": [],
   "source": [
    "from tensorflow import keras\n",
    "from keras.models import Sequential\n",
    "from keras.layers import Dense, Input, Dropout\n",
    "from keras.optimizers import Adam"
   ]
  },
  {
   "cell_type": "code",
   "execution_count": 18,
   "id": "5ef7de17",
   "metadata": {
    "execution": {
     "iopub.execute_input": "2023-07-06T12:27:51.038957Z",
     "iopub.status.busy": "2023-07-06T12:27:51.038592Z",
     "iopub.status.idle": "2023-07-06T12:27:51.166492Z",
     "shell.execute_reply": "2023-07-06T12:27:51.165736Z"
    },
    "papermill": {
     "duration": 0.144952,
     "end_time": "2023-07-06T12:27:51.171402",
     "exception": false,
     "start_time": "2023-07-06T12:27:51.026450",
     "status": "completed"
    },
    "tags": []
   },
   "outputs": [
    {
     "name": "stdout",
     "output_type": "stream",
     "text": [
      "Model: \"sequential\"\n",
      "_________________________________________________________________\n",
      " Layer (type)                Output Shape              Param #   \n",
      "=================================================================\n",
      " fc1 (Dense)                 (None, 256)               2304      \n",
      "                                                                 \n",
      " fc2 (Dense)                 (None, 256)               65792     \n",
      "                                                                 \n",
      " dropout (Dropout)           (None, 256)               0         \n",
      "                                                                 \n",
      " fc3 (Dense)                 (None, 128)               32896     \n",
      "                                                                 \n",
      " dropout_1 (Dropout)         (None, 128)               0         \n",
      "                                                                 \n",
      " Output_layer (Dense)        (None, 2)                 258       \n",
      "                                                                 \n",
      "=================================================================\n",
      "Total params: 101,250\n",
      "Trainable params: 101,250\n",
      "Non-trainable params: 0\n",
      "_________________________________________________________________\n"
     ]
    }
   ],
   "source": [
    "model = Sequential()\n",
    "model.add(Input(shape=(X_train.shape[1],), name='Input'))\n",
    "model.add(Dense(units=256, activation='relu', name='fc1'))\n",
    "model.add(Dense(units=256, activation='relu', name='fc2'))\n",
    "model.add(Dropout(0.2))\n",
    "model.add(Dense(units=128, activation='relu', name='fc3'))\n",
    "model.add(Dropout(0.2))\n",
    "model.add(Dense(units=2, activation='softmax', name='Output_layer'))\n",
    "\n",
    "opt = Adam(learning_rate=0.001)\n",
    "model.compile(optimizer=opt, loss='categorical_crossentropy', metrics=['accuracy'])\n",
    "model.summary()"
   ]
  },
  {
   "cell_type": "code",
   "execution_count": 19,
   "id": "abd54572",
   "metadata": {
    "execution": {
     "iopub.execute_input": "2023-07-06T12:27:51.197061Z",
     "iopub.status.busy": "2023-07-06T12:27:51.196682Z",
     "iopub.status.idle": "2023-07-06T12:28:01.909790Z",
     "shell.execute_reply": "2023-07-06T12:28:01.908753Z"
    },
    "papermill": {
     "duration": 10.728909,
     "end_time": "2023-07-06T12:28:01.912285",
     "exception": false,
     "start_time": "2023-07-06T12:27:51.183376",
     "status": "completed"
    },
    "tags": []
   },
   "outputs": [
    {
     "name": "stdout",
     "output_type": "stream",
     "text": [
      "Epoch 1/50\n",
      "16/16 [==============================] - 2s 102ms/step - loss: 1.0272 - accuracy: 0.6998 - val_loss: 0.6064 - val_accuracy: 0.7818\n",
      "Epoch 2/50\n",
      "16/16 [==============================] - 0s 5ms/step - loss: 0.6608 - accuracy: 0.7262 - val_loss: 0.5236 - val_accuracy: 0.7818\n",
      "Epoch 3/50\n",
      "16/16 [==============================] - 0s 5ms/step - loss: 0.5459 - accuracy: 0.7363 - val_loss: 0.5496 - val_accuracy: 0.7636\n",
      "Epoch 4/50\n",
      "16/16 [==============================] - 1s 73ms/step - loss: 0.5345 - accuracy: 0.7363 - val_loss: 0.5307 - val_accuracy: 0.8000\n",
      "Epoch 5/50\n",
      "16/16 [==============================] - 0s 5ms/step - loss: 0.5040 - accuracy: 0.7667 - val_loss: 0.4858 - val_accuracy: 0.7818\n",
      "Epoch 6/50\n",
      "16/16 [==============================] - 0s 5ms/step - loss: 0.4638 - accuracy: 0.7606 - val_loss: 0.4787 - val_accuracy: 0.8000\n",
      "Epoch 7/50\n",
      "16/16 [==============================] - 0s 5ms/step - loss: 0.4943 - accuracy: 0.7566 - val_loss: 0.5300 - val_accuracy: 0.7455\n",
      "Epoch 8/50\n",
      "16/16 [==============================] - 0s 5ms/step - loss: 0.4907 - accuracy: 0.7667 - val_loss: 0.4875 - val_accuracy: 0.8000\n",
      "Epoch 9/50\n",
      "16/16 [==============================] - 1s 74ms/step - loss: 0.4786 - accuracy: 0.7586 - val_loss: 0.4825 - val_accuracy: 0.8182\n",
      "Epoch 10/50\n",
      "16/16 [==============================] - 0s 5ms/step - loss: 0.4728 - accuracy: 0.7870 - val_loss: 0.4757 - val_accuracy: 0.8182\n",
      "Epoch 11/50\n",
      "16/16 [==============================] - 0s 5ms/step - loss: 0.5535 - accuracy: 0.7566 - val_loss: 0.4642 - val_accuracy: 0.8000\n",
      "Epoch 12/50\n",
      "16/16 [==============================] - 0s 6ms/step - loss: 0.4720 - accuracy: 0.7809 - val_loss: 0.4913 - val_accuracy: 0.8182\n",
      "Epoch 13/50\n",
      "16/16 [==============================] - 0s 5ms/step - loss: 0.4636 - accuracy: 0.7830 - val_loss: 0.5031 - val_accuracy: 0.6727\n",
      "Epoch 14/50\n",
      "16/16 [==============================] - 0s 5ms/step - loss: 0.4886 - accuracy: 0.7525 - val_loss: 0.4939 - val_accuracy: 0.8000\n",
      "Epoch 15/50\n",
      "16/16 [==============================] - 0s 5ms/step - loss: 0.4328 - accuracy: 0.7951 - val_loss: 0.4945 - val_accuracy: 0.8182\n",
      "Epoch 16/50\n",
      "16/16 [==============================] - 1s 77ms/step - loss: 0.4298 - accuracy: 0.7992 - val_loss: 0.4625 - val_accuracy: 0.8364\n",
      "Epoch 17/50\n",
      "16/16 [==============================] - 0s 5ms/step - loss: 0.4261 - accuracy: 0.7769 - val_loss: 0.4800 - val_accuracy: 0.8182\n",
      "Epoch 18/50\n",
      "16/16 [==============================] - 0s 5ms/step - loss: 0.4539 - accuracy: 0.7667 - val_loss: 0.4534 - val_accuracy: 0.8182\n",
      "Epoch 19/50\n",
      "16/16 [==============================] - 0s 5ms/step - loss: 0.4333 - accuracy: 0.8032 - val_loss: 0.4654 - val_accuracy: 0.8364\n",
      "Epoch 20/50\n",
      "16/16 [==============================] - 0s 5ms/step - loss: 0.4379 - accuracy: 0.7972 - val_loss: 0.4680 - val_accuracy: 0.8182\n",
      "Epoch 21/50\n",
      "16/16 [==============================] - 0s 5ms/step - loss: 0.4221 - accuracy: 0.7972 - val_loss: 0.4686 - val_accuracy: 0.8364\n",
      "Epoch 22/50\n",
      "16/16 [==============================] - 0s 5ms/step - loss: 0.4134 - accuracy: 0.7992 - val_loss: 0.4842 - val_accuracy: 0.7455\n",
      "Epoch 23/50\n",
      "16/16 [==============================] - 0s 5ms/step - loss: 0.4149 - accuracy: 0.7870 - val_loss: 0.4806 - val_accuracy: 0.8182\n",
      "Epoch 24/50\n",
      "16/16 [==============================] - 0s 5ms/step - loss: 0.4145 - accuracy: 0.8073 - val_loss: 0.4922 - val_accuracy: 0.7818\n",
      "Epoch 25/50\n",
      "16/16 [==============================] - 0s 6ms/step - loss: 0.4080 - accuracy: 0.7972 - val_loss: 0.4866 - val_accuracy: 0.8000\n",
      "Epoch 26/50\n",
      "16/16 [==============================] - 0s 5ms/step - loss: 0.4219 - accuracy: 0.7850 - val_loss: 0.4828 - val_accuracy: 0.7455\n",
      "Epoch 27/50\n",
      "16/16 [==============================] - 0s 5ms/step - loss: 0.4225 - accuracy: 0.7992 - val_loss: 0.4919 - val_accuracy: 0.8182\n",
      "Epoch 28/50\n",
      "16/16 [==============================] - 0s 5ms/step - loss: 0.4118 - accuracy: 0.8012 - val_loss: 0.5094 - val_accuracy: 0.8364\n",
      "Epoch 29/50\n",
      "16/16 [==============================] - 0s 5ms/step - loss: 0.4054 - accuracy: 0.7931 - val_loss: 0.4805 - val_accuracy: 0.8000\n",
      "Epoch 30/50\n",
      "16/16 [==============================] - 0s 5ms/step - loss: 0.4069 - accuracy: 0.8134 - val_loss: 0.4821 - val_accuracy: 0.7818\n",
      "Epoch 31/50\n",
      "16/16 [==============================] - 0s 6ms/step - loss: 0.4318 - accuracy: 0.7809 - val_loss: 0.5139 - val_accuracy: 0.8182\n",
      "Epoch 32/50\n",
      "16/16 [==============================] - 0s 6ms/step - loss: 0.4143 - accuracy: 0.7748 - val_loss: 0.5253 - val_accuracy: 0.8182\n",
      "Epoch 33/50\n",
      "16/16 [==============================] - 0s 6ms/step - loss: 0.4089 - accuracy: 0.7951 - val_loss: 0.5204 - val_accuracy: 0.8182\n",
      "Epoch 34/50\n",
      "16/16 [==============================] - 1s 74ms/step - loss: 0.4279 - accuracy: 0.7890 - val_loss: 0.4626 - val_accuracy: 0.8545\n",
      "Epoch 35/50\n",
      "16/16 [==============================] - 0s 5ms/step - loss: 0.4042 - accuracy: 0.7931 - val_loss: 0.5050 - val_accuracy: 0.8000\n",
      "Epoch 36/50\n",
      "16/16 [==============================] - 0s 5ms/step - loss: 0.4169 - accuracy: 0.7890 - val_loss: 0.5386 - val_accuracy: 0.8182\n",
      "Epoch 37/50\n",
      "16/16 [==============================] - 0s 5ms/step - loss: 0.4272 - accuracy: 0.7951 - val_loss: 0.5029 - val_accuracy: 0.8545\n",
      "Epoch 38/50\n",
      "16/16 [==============================] - 0s 5ms/step - loss: 0.3960 - accuracy: 0.7911 - val_loss: 0.4928 - val_accuracy: 0.8364\n",
      "Epoch 39/50\n",
      "16/16 [==============================] - 0s 6ms/step - loss: 0.3968 - accuracy: 0.8012 - val_loss: 0.4859 - val_accuracy: 0.7818\n",
      "Epoch 40/50\n",
      "16/16 [==============================] - 0s 5ms/step - loss: 0.4063 - accuracy: 0.7992 - val_loss: 0.5075 - val_accuracy: 0.8182\n",
      "Epoch 41/50\n",
      "16/16 [==============================] - 0s 5ms/step - loss: 0.4038 - accuracy: 0.7951 - val_loss: 0.5340 - val_accuracy: 0.8000\n",
      "Epoch 42/50\n",
      "16/16 [==============================] - 0s 5ms/step - loss: 0.3953 - accuracy: 0.8093 - val_loss: 0.4753 - val_accuracy: 0.8364\n",
      "Epoch 43/50\n",
      "16/16 [==============================] - 0s 5ms/step - loss: 0.3900 - accuracy: 0.8134 - val_loss: 0.4945 - val_accuracy: 0.8000\n",
      "Epoch 44/50\n",
      "16/16 [==============================] - 0s 7ms/step - loss: 0.4037 - accuracy: 0.8032 - val_loss: 0.5128 - val_accuracy: 0.8364\n",
      "Epoch 45/50\n",
      "16/16 [==============================] - 0s 5ms/step - loss: 0.3879 - accuracy: 0.8053 - val_loss: 0.5753 - val_accuracy: 0.8364\n",
      "Epoch 46/50\n",
      "16/16 [==============================] - 0s 6ms/step - loss: 0.3941 - accuracy: 0.8093 - val_loss: 0.5414 - val_accuracy: 0.8182\n",
      "Epoch 47/50\n",
      "16/16 [==============================] - 0s 5ms/step - loss: 0.4015 - accuracy: 0.8093 - val_loss: 0.5054 - val_accuracy: 0.7818\n",
      "Epoch 48/50\n",
      "16/16 [==============================] - 0s 6ms/step - loss: 0.4315 - accuracy: 0.7688 - val_loss: 0.5797 - val_accuracy: 0.8000\n",
      "Epoch 49/50\n",
      "16/16 [==============================] - 0s 5ms/step - loss: 0.4061 - accuracy: 0.7890 - val_loss: 0.5954 - val_accuracy: 0.8182\n",
      "Epoch 50/50\n",
      "16/16 [==============================] - 0s 5ms/step - loss: 0.4016 - accuracy: 0.7992 - val_loss: 0.5395 - val_accuracy: 0.8000\n"
     ]
    }
   ],
   "source": [
    "checkpoint = tf.keras.callbacks.ModelCheckpoint(\"/kaggle/working/model.pth\", monitor='val_accuracy', verbose=0, save_best_only=True, mode='auto')\n",
    "his = model.fit(x=X_train, y=y_train, batch_size=32, epochs=50, validation_split=0.1, callbacks = [checkpoint])"
   ]
  },
  {
   "cell_type": "markdown",
   "id": "45f5f430",
   "metadata": {
    "papermill": {
     "duration": 0.020678,
     "end_time": "2023-07-06T12:28:01.954606",
     "exception": false,
     "start_time": "2023-07-06T12:28:01.933928",
     "status": "completed"
    },
    "tags": []
   },
   "source": [
    "## Eavaluate"
   ]
  },
  {
   "cell_type": "markdown",
   "id": "af0439c4",
   "metadata": {
    "papermill": {
     "duration": 0.020994,
     "end_time": "2023-07-06T12:28:01.996435",
     "exception": false,
     "start_time": "2023-07-06T12:28:01.975441",
     "status": "completed"
    },
    "tags": []
   },
   "source": [
    "Load best model"
   ]
  },
  {
   "cell_type": "code",
   "execution_count": 20,
   "id": "937be672",
   "metadata": {
    "execution": {
     "iopub.execute_input": "2023-07-06T12:28:02.040685Z",
     "iopub.status.busy": "2023-07-06T12:28:02.039323Z",
     "iopub.status.idle": "2023-07-06T12:28:02.468278Z",
     "shell.execute_reply": "2023-07-06T12:28:02.467216Z"
    },
    "papermill": {
     "duration": 0.453619,
     "end_time": "2023-07-06T12:28:02.470839",
     "exception": false,
     "start_time": "2023-07-06T12:28:02.017220",
     "status": "completed"
    },
    "tags": []
   },
   "outputs": [],
   "source": [
    "model = keras.models.load_model(\"/kaggle/working/model.pth\")"
   ]
  },
  {
   "cell_type": "code",
   "execution_count": 21,
   "id": "0f4a5669",
   "metadata": {
    "execution": {
     "iopub.execute_input": "2023-07-06T12:28:02.515149Z",
     "iopub.status.busy": "2023-07-06T12:28:02.514068Z",
     "iopub.status.idle": "2023-07-06T12:28:03.082475Z",
     "shell.execute_reply": "2023-07-06T12:28:03.081254Z"
    },
    "papermill": {
     "duration": 0.592787,
     "end_time": "2023-07-06T12:28:03.084753",
     "exception": false,
     "start_time": "2023-07-06T12:28:02.491966",
     "status": "completed"
    },
    "tags": []
   },
   "outputs": [
    {
     "name": "stdout",
     "output_type": "stream",
     "text": [
      "5/5 [==============================] - 1s 3ms/step - loss: 0.4231 - accuracy: 0.7961\n"
     ]
    },
    {
     "data": {
      "text/plain": [
       "[0.4231265187263489, 0.7960526347160339]"
      ]
     },
     "execution_count": 21,
     "metadata": {},
     "output_type": "execute_result"
    }
   ],
   "source": [
    "model.evaluate(X_test, y_test)"
   ]
  }
 ],
 "metadata": {
  "kernelspec": {
   "display_name": "Python 3",
   "language": "python",
   "name": "python3"
  },
  "language_info": {
   "codemirror_mode": {
    "name": "ipython",
    "version": 3
   },
   "file_extension": ".py",
   "mimetype": "text/x-python",
   "name": "python",
   "nbconvert_exporter": "python",
   "pygments_lexer": "ipython3",
   "version": "3.10.10"
  },
  "papermill": {
   "default_parameters": {},
   "duration": 44.527583,
   "end_time": "2023-07-06T12:28:05.997745",
   "environment_variables": {},
   "exception": null,
   "input_path": "__notebook__.ipynb",
   "output_path": "__notebook__.ipynb",
   "parameters": {},
   "start_time": "2023-07-06T12:27:21.470162",
   "version": "2.4.0"
  }
 },
 "nbformat": 4,
 "nbformat_minor": 5
}
